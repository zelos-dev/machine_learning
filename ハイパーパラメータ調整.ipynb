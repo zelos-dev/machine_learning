{
  "nbformat": 4,
  "nbformat_minor": 0,
  "metadata": {
    "colab": {
      "name": "ハイパーパラメータ調整.ipynb",
      "provenance": [],
      "authorship_tag": "ABX9TyNeVT9OeN0WFW1UmBjbv5RL",
      "include_colab_link": true
    },
    "kernelspec": {
      "name": "python3",
      "display_name": "Python 3"
    },
    "language_info": {
      "name": "python"
    }
  },
  "cells": [
    {
      "cell_type": "markdown",
      "metadata": {
        "id": "view-in-github",
        "colab_type": "text"
      },
      "source": [
        "<a href=\"https://colab.research.google.com/github/zelos-dev/machine_learning/blob/main/%E3%83%8F%E3%82%A4%E3%83%91%E3%83%BC%E3%83%91%E3%83%A9%E3%83%A1%E3%83%BC%E3%82%BF%E8%AA%BF%E6%95%B4.ipynb\" target=\"_parent\"><img src=\"https://colab.research.google.com/assets/colab-badge.svg\" alt=\"Open In Colab\"/></a>"
      ]
    },
    {
      "cell_type": "code",
      "metadata": {
        "id": "L2e4Pj43uhfp"
      },
      "source": [
        "import numpy as np\n",
        "import pandas as pd "
      ],
      "execution_count": null,
      "outputs": []
    },
    {
      "cell_type": "code",
      "metadata": {
        "id": "I2548YStxqE6"
      },
      "source": [
        "from sklearn.datasets import load_breast_cancer"
      ],
      "execution_count": null,
      "outputs": []
    },
    {
      "cell_type": "code",
      "metadata": {
        "id": "503OXleMxvqL"
      },
      "source": [
        "dataset=load_breast_cancer()"
      ],
      "execution_count": null,
      "outputs": []
    },
    {
      "cell_type": "code",
      "metadata": {
        "id": "jTeAlilox1ay"
      },
      "source": [
        "t=dataset.target"
      ],
      "execution_count": null,
      "outputs": []
    },
    {
      "cell_type": "code",
      "metadata": {
        "id": "lOtjmjWax2N9"
      },
      "source": [
        "x=dataset.data"
      ],
      "execution_count": null,
      "outputs": []
    },
    {
      "cell_type": "code",
      "metadata": {
        "colab": {
          "base_uri": "https://localhost:8080/"
        },
        "id": "3CN118xOx7Fj",
        "outputId": "0bcd2136-691e-437b-d8dc-1ba969d70636"
      },
      "source": [
        "x.shape"
      ],
      "execution_count": null,
      "outputs": [
        {
          "output_type": "execute_result",
          "data": {
            "text/plain": [
              "(569, 30)"
            ]
          },
          "metadata": {
            "tags": []
          },
          "execution_count": 8
        }
      ]
    },
    {
      "cell_type": "code",
      "metadata": {
        "colab": {
          "base_uri": "https://localhost:8080/"
        },
        "id": "tNA3rV4Cx8-j",
        "outputId": "e2909563-2c8c-4448-9048-76ec3a58ad4d"
      },
      "source": [
        "t.shape"
      ],
      "execution_count": null,
      "outputs": [
        {
          "output_type": "execute_result",
          "data": {
            "text/plain": [
              "(569,)"
            ]
          },
          "metadata": {
            "tags": []
          },
          "execution_count": 9
        }
      ]
    },
    {
      "cell_type": "code",
      "metadata": {
        "id": "oDyQCcOwx-R-"
      },
      "source": [
        "from sklearn.model_selection import train_test_split"
      ],
      "execution_count": null,
      "outputs": []
    },
    {
      "cell_type": "code",
      "metadata": {
        "id": "4WLqHB64yKwh"
      },
      "source": [
        "x_train_val,x_test,t_train_val,t_test=train_test_split(x,t,test_size=0.2,random_state=1)"
      ],
      "execution_count": 18,
      "outputs": []
    },
    {
      "cell_type": "code",
      "metadata": {
        "id": "feVMOXo0yRmO"
      },
      "source": [
        "x_train,x_val,t_train,t_val=train_test_split(x_train_val,t_train_val,test_size=0.3,random_state=1)"
      ],
      "execution_count": 19,
      "outputs": []
    },
    {
      "cell_type": "code",
      "metadata": {
        "colab": {
          "base_uri": "https://localhost:8080/"
        },
        "id": "jeHXO2Iayyh0",
        "outputId": "019bc6b8-2865-4489-ed7a-634be19fefb6"
      },
      "source": [
        "t_train.shape,x_val.shape"
      ],
      "execution_count": 22,
      "outputs": [
        {
          "output_type": "execute_result",
          "data": {
            "text/plain": [
              "((318,), (137, 30))"
            ]
          },
          "metadata": {
            "tags": []
          },
          "execution_count": 22
        }
      ]
    },
    {
      "cell_type": "code",
      "metadata": {
        "id": "AVs4P49-y_bp"
      },
      "source": [
        "from sklearn.tree import DecisionTreeClassifier"
      ],
      "execution_count": 23,
      "outputs": []
    },
    {
      "cell_type": "code",
      "metadata": {
        "id": "-p9YCF_MzB4B"
      },
      "source": [
        "dtree=DecisionTreeClassifier(max_depth=10,min_samples_split=30,random_state=0)"
      ],
      "execution_count": 28,
      "outputs": []
    },
    {
      "cell_type": "code",
      "metadata": {
        "colab": {
          "base_uri": "https://localhost:8080/"
        },
        "id": "ogl3T2OazT7a",
        "outputId": "27bc5f01-7f0c-4f52-ff53-e32cd043c3b3"
      },
      "source": [
        "dtree.fit(x_train,t_train)"
      ],
      "execution_count": 29,
      "outputs": [
        {
          "output_type": "execute_result",
          "data": {
            "text/plain": [
              "DecisionTreeClassifier(ccp_alpha=0.0, class_weight=None, criterion='gini',\n",
              "                       max_depth=10, max_features=None, max_leaf_nodes=None,\n",
              "                       min_impurity_decrease=0.0, min_impurity_split=None,\n",
              "                       min_samples_leaf=1, min_samples_split=30,\n",
              "                       min_weight_fraction_leaf=0.0, presort='deprecated',\n",
              "                       random_state=0, splitter='best')"
            ]
          },
          "metadata": {
            "tags": []
          },
          "execution_count": 29
        }
      ]
    },
    {
      "cell_type": "code",
      "metadata": {
        "colab": {
          "base_uri": "https://localhost:8080/"
        },
        "id": "s1_XNWmmz2n3",
        "outputId": "9fb198df-ceb2-4224-97fb-a8c4625aa9d8"
      },
      "source": [
        "print(f'train_score:{dtree.score(x_train,t_train)}')\n",
        "print(f'val_score:{dtree.score(x_val,t_val)}')"
      ],
      "execution_count": 30,
      "outputs": [
        {
          "output_type": "stream",
          "text": [
            "train_score:0.9308176100628931\n",
            "val_score:0.9562043795620438\n"
          ],
          "name": "stdout"
        }
      ]
    },
    {
      "cell_type": "code",
      "metadata": {
        "colab": {
          "base_uri": "https://localhost:8080/"
        },
        "id": "tlN7HZH00DSb",
        "outputId": "1940c04c-77ba-4810-e981-6eca14eb43d9"
      },
      "source": [
        "print(f'test_score:{dtree.score(x_test,t_test)}')"
      ],
      "execution_count": 31,
      "outputs": [
        {
          "output_type": "stream",
          "text": [
            "test_score:0.9298245614035088\n"
          ],
          "name": "stdout"
        }
      ]
    },
    {
      "cell_type": "code",
      "metadata": {
        "id": "M0RbL7s10iH1"
      },
      "source": [
        "from sklearn.model_selection import GridSearchCV"
      ],
      "execution_count": 32,
      "outputs": []
    },
    {
      "cell_type": "code",
      "metadata": {
        "id": "KDqzkzE24CP6"
      },
      "source": [
        "estimator=DecisionTreeClassifier(random_state=0)\n"
      ],
      "execution_count": 42,
      "outputs": []
    },
    {
      "cell_type": "code",
      "metadata": {
        "id": "ZfSobLh-4MfR"
      },
      "source": [
        "param_grid=[{\n",
        "    'max_depth':[5,10,15],\n",
        "    'min_samples_split':[10,12,15]\n",
        "}]"
      ],
      "execution_count": 50,
      "outputs": []
    },
    {
      "cell_type": "code",
      "metadata": {
        "id": "0iQjXYYn4o3D"
      },
      "source": [
        "cv=5"
      ],
      "execution_count": 51,
      "outputs": []
    },
    {
      "cell_type": "code",
      "metadata": {
        "id": "EVJDBiCX4rT2"
      },
      "source": [
        "tuned_model=GridSearchCV(estimator=estimator,param_grid=param_grid,cv=cv,return_train_score=False)"
      ],
      "execution_count": 52,
      "outputs": []
    },
    {
      "cell_type": "code",
      "metadata": {
        "colab": {
          "base_uri": "https://localhost:8080/"
        },
        "id": "a_n9fQfc4_pI",
        "outputId": "0892c0b5-a966-4977-c177-b1d805328288"
      },
      "source": [
        "tuned_model.fit(x_train_val,t_train_val)"
      ],
      "execution_count": 53,
      "outputs": [
        {
          "output_type": "execute_result",
          "data": {
            "text/plain": [
              "GridSearchCV(cv=5, error_score=nan,\n",
              "             estimator=DecisionTreeClassifier(ccp_alpha=0.0, class_weight=None,\n",
              "                                              criterion='gini', max_depth=None,\n",
              "                                              max_features=None,\n",
              "                                              max_leaf_nodes=None,\n",
              "                                              min_impurity_decrease=0.0,\n",
              "                                              min_impurity_split=None,\n",
              "                                              min_samples_leaf=1,\n",
              "                                              min_samples_split=2,\n",
              "                                              min_weight_fraction_leaf=0.0,\n",
              "                                              presort='deprecated',\n",
              "                                              random_state=0, splitter='best'),\n",
              "             iid='deprecated', n_jobs=None,\n",
              "             param_grid=[{'max_depth': [5, 10, 15],\n",
              "                          'min_samples_split': [10, 12, 15]}],\n",
              "             pre_dispatch='2*n_jobs', refit=True, return_train_score=False,\n",
              "             scoring=None, verbose=0)"
            ]
          },
          "metadata": {
            "tags": []
          },
          "execution_count": 53
        }
      ]
    },
    {
      "cell_type": "code",
      "metadata": {
        "colab": {
          "base_uri": "https://localhost:8080/",
          "height": 574
        },
        "id": "NE9U6wR75Vvp",
        "outputId": "5cd2126f-e914-4cf1-91c1-7d23be6f167f"
      },
      "source": [
        "pd.DataFrame(tuned_model.cv_results_).T"
      ],
      "execution_count": 54,
      "outputs": [
        {
          "output_type": "execute_result",
          "data": {
            "text/html": [
              "<div>\n",
              "<style scoped>\n",
              "    .dataframe tbody tr th:only-of-type {\n",
              "        vertical-align: middle;\n",
              "    }\n",
              "\n",
              "    .dataframe tbody tr th {\n",
              "        vertical-align: top;\n",
              "    }\n",
              "\n",
              "    .dataframe thead th {\n",
              "        text-align: right;\n",
              "    }\n",
              "</style>\n",
              "<table border=\"1\" class=\"dataframe\">\n",
              "  <thead>\n",
              "    <tr style=\"text-align: right;\">\n",
              "      <th></th>\n",
              "      <th>0</th>\n",
              "      <th>1</th>\n",
              "      <th>2</th>\n",
              "      <th>3</th>\n",
              "      <th>4</th>\n",
              "      <th>5</th>\n",
              "      <th>6</th>\n",
              "      <th>7</th>\n",
              "      <th>8</th>\n",
              "    </tr>\n",
              "  </thead>\n",
              "  <tbody>\n",
              "    <tr>\n",
              "      <th>mean_fit_time</th>\n",
              "      <td>0.0067512</td>\n",
              "      <td>0.00457735</td>\n",
              "      <td>0.00465426</td>\n",
              "      <td>0.00443168</td>\n",
              "      <td>0.0044127</td>\n",
              "      <td>0.00445871</td>\n",
              "      <td>0.00453382</td>\n",
              "      <td>0.00451894</td>\n",
              "      <td>0.0044517</td>\n",
              "    </tr>\n",
              "    <tr>\n",
              "      <th>std_fit_time</th>\n",
              "      <td>0.00193805</td>\n",
              "      <td>0.000232395</td>\n",
              "      <td>0.000331047</td>\n",
              "      <td>0.000207952</td>\n",
              "      <td>0.000219868</td>\n",
              "      <td>0.000197349</td>\n",
              "      <td>0.00026247</td>\n",
              "      <td>0.000180761</td>\n",
              "      <td>0.000200053</td>\n",
              "    </tr>\n",
              "    <tr>\n",
              "      <th>mean_score_time</th>\n",
              "      <td>0.000488043</td>\n",
              "      <td>0.000336981</td>\n",
              "      <td>0.000342369</td>\n",
              "      <td>0.000300217</td>\n",
              "      <td>0.000300121</td>\n",
              "      <td>0.000329638</td>\n",
              "      <td>0.000346136</td>\n",
              "      <td>0.000353813</td>\n",
              "      <td>0.000326538</td>\n",
              "    </tr>\n",
              "    <tr>\n",
              "      <th>std_score_time</th>\n",
              "      <td>0.000121181</td>\n",
              "      <td>1.0172e-05</td>\n",
              "      <td>2.72591e-05</td>\n",
              "      <td>8.93914e-06</td>\n",
              "      <td>5.93159e-06</td>\n",
              "      <td>1.55748e-05</td>\n",
              "      <td>2.24546e-05</td>\n",
              "      <td>1.56958e-05</td>\n",
              "      <td>8.34342e-06</td>\n",
              "    </tr>\n",
              "    <tr>\n",
              "      <th>param_max_depth</th>\n",
              "      <td>5</td>\n",
              "      <td>5</td>\n",
              "      <td>5</td>\n",
              "      <td>10</td>\n",
              "      <td>10</td>\n",
              "      <td>10</td>\n",
              "      <td>15</td>\n",
              "      <td>15</td>\n",
              "      <td>15</td>\n",
              "    </tr>\n",
              "    <tr>\n",
              "      <th>param_min_samples_split</th>\n",
              "      <td>10</td>\n",
              "      <td>12</td>\n",
              "      <td>15</td>\n",
              "      <td>10</td>\n",
              "      <td>12</td>\n",
              "      <td>15</td>\n",
              "      <td>10</td>\n",
              "      <td>12</td>\n",
              "      <td>15</td>\n",
              "    </tr>\n",
              "    <tr>\n",
              "      <th>params</th>\n",
              "      <td>{'max_depth': 5, 'min_samples_split': 10}</td>\n",
              "      <td>{'max_depth': 5, 'min_samples_split': 12}</td>\n",
              "      <td>{'max_depth': 5, 'min_samples_split': 15}</td>\n",
              "      <td>{'max_depth': 10, 'min_samples_split': 10}</td>\n",
              "      <td>{'max_depth': 10, 'min_samples_split': 12}</td>\n",
              "      <td>{'max_depth': 10, 'min_samples_split': 15}</td>\n",
              "      <td>{'max_depth': 15, 'min_samples_split': 10}</td>\n",
              "      <td>{'max_depth': 15, 'min_samples_split': 12}</td>\n",
              "      <td>{'max_depth': 15, 'min_samples_split': 15}</td>\n",
              "    </tr>\n",
              "    <tr>\n",
              "      <th>split0_test_score</th>\n",
              "      <td>0.967033</td>\n",
              "      <td>0.923077</td>\n",
              "      <td>0.912088</td>\n",
              "      <td>0.967033</td>\n",
              "      <td>0.923077</td>\n",
              "      <td>0.912088</td>\n",
              "      <td>0.967033</td>\n",
              "      <td>0.923077</td>\n",
              "      <td>0.912088</td>\n",
              "    </tr>\n",
              "    <tr>\n",
              "      <th>split1_test_score</th>\n",
              "      <td>0.912088</td>\n",
              "      <td>0.901099</td>\n",
              "      <td>0.901099</td>\n",
              "      <td>0.912088</td>\n",
              "      <td>0.901099</td>\n",
              "      <td>0.901099</td>\n",
              "      <td>0.912088</td>\n",
              "      <td>0.901099</td>\n",
              "      <td>0.901099</td>\n",
              "    </tr>\n",
              "    <tr>\n",
              "      <th>split2_test_score</th>\n",
              "      <td>0.923077</td>\n",
              "      <td>0.934066</td>\n",
              "      <td>0.934066</td>\n",
              "      <td>0.923077</td>\n",
              "      <td>0.934066</td>\n",
              "      <td>0.934066</td>\n",
              "      <td>0.923077</td>\n",
              "      <td>0.934066</td>\n",
              "      <td>0.934066</td>\n",
              "    </tr>\n",
              "    <tr>\n",
              "      <th>split3_test_score</th>\n",
              "      <td>0.956044</td>\n",
              "      <td>0.956044</td>\n",
              "      <td>0.945055</td>\n",
              "      <td>0.956044</td>\n",
              "      <td>0.956044</td>\n",
              "      <td>0.945055</td>\n",
              "      <td>0.956044</td>\n",
              "      <td>0.956044</td>\n",
              "      <td>0.945055</td>\n",
              "    </tr>\n",
              "    <tr>\n",
              "      <th>split4_test_score</th>\n",
              "      <td>0.967033</td>\n",
              "      <td>0.967033</td>\n",
              "      <td>0.934066</td>\n",
              "      <td>0.967033</td>\n",
              "      <td>0.967033</td>\n",
              "      <td>0.934066</td>\n",
              "      <td>0.967033</td>\n",
              "      <td>0.967033</td>\n",
              "      <td>0.934066</td>\n",
              "    </tr>\n",
              "    <tr>\n",
              "      <th>mean_test_score</th>\n",
              "      <td>0.945055</td>\n",
              "      <td>0.936264</td>\n",
              "      <td>0.925275</td>\n",
              "      <td>0.945055</td>\n",
              "      <td>0.936264</td>\n",
              "      <td>0.925275</td>\n",
              "      <td>0.945055</td>\n",
              "      <td>0.936264</td>\n",
              "      <td>0.925275</td>\n",
              "    </tr>\n",
              "    <tr>\n",
              "      <th>std_test_score</th>\n",
              "      <td>0.0230507</td>\n",
              "      <td>0.0234661</td>\n",
              "      <td>0.0161505</td>\n",
              "      <td>0.0230507</td>\n",
              "      <td>0.0234661</td>\n",
              "      <td>0.0161505</td>\n",
              "      <td>0.0230507</td>\n",
              "      <td>0.0234661</td>\n",
              "      <td>0.0161505</td>\n",
              "    </tr>\n",
              "    <tr>\n",
              "      <th>rank_test_score</th>\n",
              "      <td>1</td>\n",
              "      <td>4</td>\n",
              "      <td>7</td>\n",
              "      <td>1</td>\n",
              "      <td>4</td>\n",
              "      <td>7</td>\n",
              "      <td>1</td>\n",
              "      <td>4</td>\n",
              "      <td>7</td>\n",
              "    </tr>\n",
              "  </tbody>\n",
              "</table>\n",
              "</div>"
            ],
            "text/plain": [
              "                                                                 0  ...                                           8\n",
              "mean_fit_time                                            0.0067512  ...                                   0.0044517\n",
              "std_fit_time                                            0.00193805  ...                                 0.000200053\n",
              "mean_score_time                                        0.000488043  ...                                 0.000326538\n",
              "std_score_time                                         0.000121181  ...                                 8.34342e-06\n",
              "param_max_depth                                                  5  ...                                          15\n",
              "param_min_samples_split                                         10  ...                                          15\n",
              "params                   {'max_depth': 5, 'min_samples_split': 10}  ...  {'max_depth': 15, 'min_samples_split': 15}\n",
              "split0_test_score                                         0.967033  ...                                    0.912088\n",
              "split1_test_score                                         0.912088  ...                                    0.901099\n",
              "split2_test_score                                         0.923077  ...                                    0.934066\n",
              "split3_test_score                                         0.956044  ...                                    0.945055\n",
              "split4_test_score                                         0.967033  ...                                    0.934066\n",
              "mean_test_score                                           0.945055  ...                                    0.925275\n",
              "std_test_score                                           0.0230507  ...                                   0.0161505\n",
              "rank_test_score                                                  1  ...                                           7\n",
              "\n",
              "[15 rows x 9 columns]"
            ]
          },
          "metadata": {
            "tags": []
          },
          "execution_count": 54
        }
      ]
    },
    {
      "cell_type": "code",
      "metadata": {
        "colab": {
          "base_uri": "https://localhost:8080/"
        },
        "id": "5jFXW6DC5kse",
        "outputId": "c691f22a-f300-4ff6-8326-9749f115626e"
      },
      "source": [
        "tuned_model.best_params_"
      ],
      "execution_count": 55,
      "outputs": [
        {
          "output_type": "execute_result",
          "data": {
            "text/plain": [
              "{'max_depth': 5, 'min_samples_split': 10}"
            ]
          },
          "metadata": {
            "tags": []
          },
          "execution_count": 55
        }
      ]
    },
    {
      "cell_type": "code",
      "metadata": {
        "id": "W1YNKzbr6nIc"
      },
      "source": [
        "best_model=tuned_model.best_estimator_"
      ],
      "execution_count": 56,
      "outputs": []
    },
    {
      "cell_type": "code",
      "metadata": {
        "colab": {
          "base_uri": "https://localhost:8080/"
        },
        "id": "glOe6SjA6s5Q",
        "outputId": "3cde26f9-4585-428a-ff43-0dd64b1c4e76"
      },
      "source": [
        "print(best_model.score(x_train_val,t_train_val))\n",
        "print(best_model.score(x_test,t_test))"
      ],
      "execution_count": 57,
      "outputs": [
        {
          "output_type": "stream",
          "text": [
            "0.9934065934065934\n",
            "0.956140350877193\n"
          ],
          "name": "stdout"
        }
      ]
    },
    {
      "cell_type": "code",
      "metadata": {
        "id": "T5eJCbZo635H"
      },
      "source": [
        ""
      ],
      "execution_count": null,
      "outputs": []
    },
    {
      "cell_type": "code",
      "metadata": {
        "id": "7D942k1O7JgK"
      },
      "source": [
        ""
      ],
      "execution_count": null,
      "outputs": []
    }
  ]
}