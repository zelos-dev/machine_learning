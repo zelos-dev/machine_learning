{
  "nbformat": 4,
  "nbformat_minor": 5,
  "metadata": {
    "kernelspec": {
      "display_name": "Python 3",
      "language": "python",
      "name": "python3"
    },
    "language_info": {
      "codemirror_mode": {
        "name": "ipython",
        "version": 3
      },
      "file_extension": ".py",
      "mimetype": "text/x-python",
      "name": "python",
      "nbconvert_exporter": "python",
      "pygments_lexer": "ipython3",
      "version": "3.8.8"
    },
    "colab": {
      "name": "機械学習　教師あり学習：分類.ipynb",
      "provenance": [],
      "include_colab_link": true
    }
  },
  "cells": [
    {
      "cell_type": "markdown",
      "metadata": {
        "id": "view-in-github",
        "colab_type": "text"
      },
      "source": [
        "<a href=\"https://colab.research.google.com/github/zelos-dev/machine_learning/blob/main/%E6%A9%9F%E6%A2%B0%E5%AD%A6%E7%BF%92%E3%80%80%E6%95%99%E5%B8%AB%E3%81%82%E3%82%8A%E5%AD%A6%E7%BF%92%EF%BC%9A%E5%88%86%E9%A1%9E.ipynb\" target=\"_parent\"><img src=\"https://colab.research.google.com/assets/colab-badge.svg\" alt=\"Open In Colab\"/></a>"
      ]
    },
    {
      "cell_type": "code",
      "metadata": {
        "id": "0280d0a3"
      },
      "source": [
        "import numpy as np\n",
        "import pandas as pd\n",
        "import matplotlib.pyplot as plt\n",
        "import seaborn as sns\n",
        "from sklearn.datasets import load_iris"
      ],
      "id": "0280d0a3",
      "execution_count": 69,
      "outputs": []
    },
    {
      "cell_type": "code",
      "metadata": {
        "id": "d69f004e"
      },
      "source": [
        "dataset=load_iris()"
      ],
      "id": "d69f004e",
      "execution_count": 38,
      "outputs": []
    },
    {
      "cell_type": "code",
      "metadata": {
        "id": "b98a6d2b"
      },
      "source": [
        "columns_name=dataset.feature_names"
      ],
      "id": "b98a6d2b",
      "execution_count": 39,
      "outputs": []
    },
    {
      "cell_type": "code",
      "metadata": {
        "colab": {
          "base_uri": "https://localhost:8080/"
        },
        "id": "M6eLNpFwgHMH",
        "outputId": "337ffcf2-0929-44c1-c12e-2cef245ec2e8"
      },
      "source": [
        "columns_name"
      ],
      "id": "M6eLNpFwgHMH",
      "execution_count": 71,
      "outputs": [
        {
          "output_type": "execute_result",
          "data": {
            "text/plain": [
              "['sepal length (cm)',\n",
              " 'sepal width (cm)',\n",
              " 'petal length (cm)',\n",
              " 'petal width (cm)']"
            ]
          },
          "metadata": {
            "tags": []
          },
          "execution_count": 71
        }
      ]
    },
    {
      "cell_type": "code",
      "metadata": {
        "id": "67300179"
      },
      "source": [
        "x=dataset.data"
      ],
      "id": "67300179",
      "execution_count": 40,
      "outputs": []
    },
    {
      "cell_type": "code",
      "metadata": {
        "id": "5219520e"
      },
      "source": [
        "t=dataset.target"
      ],
      "id": "5219520e",
      "execution_count": 41,
      "outputs": []
    },
    {
      "cell_type": "code",
      "metadata": {
        "colab": {
          "base_uri": "https://localhost:8080/"
        },
        "id": "6f752710",
        "outputId": "b73496cb-bc05-4770-b93f-5267cb070fd4"
      },
      "source": [
        "np.unique(t)"
      ],
      "id": "6f752710",
      "execution_count": 42,
      "outputs": [
        {
          "output_type": "execute_result",
          "data": {
            "text/plain": [
              "array([0, 1, 2])"
            ]
          },
          "metadata": {
            "tags": []
          },
          "execution_count": 42
        }
      ]
    },
    {
      "cell_type": "code",
      "metadata": {
        "colab": {
          "base_uri": "https://localhost:8080/"
        },
        "id": "351ef901",
        "outputId": "ea2abd4a-9a58-49a2-e095-55a468dafb7d"
      },
      "source": [
        "x.shape"
      ],
      "id": "351ef901",
      "execution_count": 43,
      "outputs": [
        {
          "output_type": "execute_result",
          "data": {
            "text/plain": [
              "(150, 4)"
            ]
          },
          "metadata": {
            "tags": []
          },
          "execution_count": 43
        }
      ]
    },
    {
      "cell_type": "code",
      "metadata": {
        "colab": {
          "base_uri": "https://localhost:8080/"
        },
        "id": "52513d20",
        "outputId": "78299366-c546-4448-b21f-bb33099fb86b"
      },
      "source": [
        "t.shape"
      ],
      "id": "52513d20",
      "execution_count": 44,
      "outputs": [
        {
          "output_type": "execute_result",
          "data": {
            "text/plain": [
              "(150,)"
            ]
          },
          "metadata": {
            "tags": []
          },
          "execution_count": 44
        }
      ]
    },
    {
      "cell_type": "code",
      "metadata": {
        "id": "79a619b5"
      },
      "source": [
        "from sklearn.model_selection import train_test_split"
      ],
      "id": "79a619b5",
      "execution_count": 45,
      "outputs": []
    },
    {
      "cell_type": "code",
      "metadata": {
        "id": "beab99b0"
      },
      "source": [
        "x_train,x_test,t_train,t_test=train_test_split(x,t,test_size=0.3,random_state=0)"
      ],
      "id": "beab99b0",
      "execution_count": 46,
      "outputs": []
    },
    {
      "cell_type": "code",
      "metadata": {
        "colab": {
          "base_uri": "https://localhost:8080/"
        },
        "id": "d2735c70",
        "outputId": "2d01a212-3eaa-4dc4-9aa3-6e78e5da1e5c"
      },
      "source": [
        "x_train.shape"
      ],
      "id": "d2735c70",
      "execution_count": 47,
      "outputs": [
        {
          "output_type": "execute_result",
          "data": {
            "text/plain": [
              "(105, 4)"
            ]
          },
          "metadata": {
            "tags": []
          },
          "execution_count": 47
        }
      ]
    },
    {
      "cell_type": "code",
      "metadata": {
        "colab": {
          "base_uri": "https://localhost:8080/"
        },
        "id": "8428fb37",
        "outputId": "12d41747-1d7d-43a1-9869-7d394ada4991"
      },
      "source": [
        "x_test.shape"
      ],
      "id": "8428fb37",
      "execution_count": 48,
      "outputs": [
        {
          "output_type": "execute_result",
          "data": {
            "text/plain": [
              "(45, 4)"
            ]
          },
          "metadata": {
            "tags": []
          },
          "execution_count": 48
        }
      ]
    },
    {
      "cell_type": "code",
      "metadata": {
        "id": "78f87a49"
      },
      "source": [
        "from sklearn.tree import DecisionTreeClassifier"
      ],
      "id": "78f87a49",
      "execution_count": 49,
      "outputs": []
    },
    {
      "cell_type": "code",
      "metadata": {
        "id": "7d399bab"
      },
      "source": [
        "model=DecisionTreeClassifier(random_state=0)"
      ],
      "id": "7d399bab",
      "execution_count": 50,
      "outputs": []
    },
    {
      "cell_type": "code",
      "metadata": {
        "colab": {
          "base_uri": "https://localhost:8080/"
        },
        "id": "984dea68",
        "outputId": "c5aaad7d-a27d-4795-e471-ee709b63255a"
      },
      "source": [
        "model.fit(x_train,t_train)"
      ],
      "id": "984dea68",
      "execution_count": 51,
      "outputs": [
        {
          "output_type": "execute_result",
          "data": {
            "text/plain": [
              "DecisionTreeClassifier(ccp_alpha=0.0, class_weight=None, criterion='gini',\n",
              "                       max_depth=None, max_features=None, max_leaf_nodes=None,\n",
              "                       min_impurity_decrease=0.0, min_impurity_split=None,\n",
              "                       min_samples_leaf=1, min_samples_split=2,\n",
              "                       min_weight_fraction_leaf=0.0, presort='deprecated',\n",
              "                       random_state=0, splitter='best')"
            ]
          },
          "metadata": {
            "tags": []
          },
          "execution_count": 51
        }
      ]
    },
    {
      "cell_type": "code",
      "metadata": {
        "colab": {
          "base_uri": "https://localhost:8080/"
        },
        "id": "7bf16744",
        "outputId": "2be352be-4ca3-4d82-d776-6a1d5bee6c67"
      },
      "source": [
        "print(f'train score:{model.score(x_train,t_train)}')\n",
        "print(f'test score:{model.score(x_test,t_test)}')"
      ],
      "id": "7bf16744",
      "execution_count": 52,
      "outputs": [
        {
          "output_type": "stream",
          "text": [
            "train score:1.0\n",
            "test score:0.9777777777777777\n"
          ],
          "name": "stdout"
        }
      ]
    },
    {
      "cell_type": "code",
      "metadata": {
        "colab": {
          "base_uri": "https://localhost:8080/"
        },
        "id": "4da04e94",
        "outputId": "6af51ec7-ae84-4d90-9836-aea243c6e845"
      },
      "source": [
        "model.predict(x_test)"
      ],
      "id": "4da04e94",
      "execution_count": 55,
      "outputs": [
        {
          "output_type": "execute_result",
          "data": {
            "text/plain": [
              "array([2, 1, 0, 2, 0, 2, 0, 1, 1, 1, 2, 1, 1, 1, 1, 0, 1, 1, 0, 0, 2, 1,\n",
              "       0, 0, 2, 0, 0, 1, 1, 0, 2, 1, 0, 2, 2, 1, 0, 2, 1, 1, 2, 0, 2, 0,\n",
              "       0])"
            ]
          },
          "metadata": {
            "tags": []
          },
          "execution_count": 55
        }
      ]
    },
    {
      "cell_type": "code",
      "metadata": {
        "colab": {
          "base_uri": "https://localhost:8080/"
        },
        "id": "dab8fb34",
        "outputId": "11856416-18c1-45e1-ff7c-1809aaafe3b6"
      },
      "source": [
        "pip install graphviz"
      ],
      "id": "dab8fb34",
      "execution_count": 56,
      "outputs": [
        {
          "output_type": "stream",
          "text": [
            "Requirement already satisfied: graphviz in /usr/local/lib/python3.7/dist-packages (0.10.1)\n"
          ],
          "name": "stdout"
        }
      ]
    },
    {
      "cell_type": "code",
      "metadata": {
        "id": "6de6a942"
      },
      "source": [
        "import graphviz\n",
        "from sklearn.tree import export_graphviz"
      ],
      "id": "6de6a942",
      "execution_count": 57,
      "outputs": []
    },
    {
      "cell_type": "code",
      "metadata": {
        "id": "24b83edc"
      },
      "source": [
        "dot_data=export_graphviz(model)"
      ],
      "id": "24b83edc",
      "execution_count": 58,
      "outputs": []
    },
    {
      "cell_type": "code",
      "metadata": {
        "colab": {
          "base_uri": "https://localhost:8080/",
          "height": 678
        },
        "id": "fe07063f",
        "outputId": "94864d78-593d-4621-d28e-4d4b85e66702"
      },
      "source": [
        "graphviz.Source(dot_data)"
      ],
      "id": "fe07063f",
      "execution_count": 59,
      "outputs": [
        {
          "output_type": "execute_result",
          "data": {
            "text/plain": [
              "<graphviz.files.Source at 0x7fbf7a1e5250>"
            ],
            "image/svg+xml": "<?xml version=\"1.0\" encoding=\"UTF-8\" standalone=\"no\"?>\n<!DOCTYPE svg PUBLIC \"-//W3C//DTD SVG 1.1//EN\"\n \"http://www.w3.org/Graphics/SVG/1.1/DTD/svg11.dtd\">\n<!-- Generated by graphviz version 2.40.1 (20161225.0304)\n -->\n<!-- Title: Tree Pages: 1 -->\n<svg width=\"522pt\" height=\"477pt\"\n viewBox=\"0.00 0.00 522.00 477.00\" xmlns=\"http://www.w3.org/2000/svg\" xmlns:xlink=\"http://www.w3.org/1999/xlink\">\n<g id=\"graph0\" class=\"graph\" transform=\"scale(1 1) rotate(0) translate(4 473)\">\n<title>Tree</title>\n<polygon fill=\"#ffffff\" stroke=\"transparent\" points=\"-4,4 -4,-473 518,-473 518,4 -4,4\"/>\n<!-- 0 -->\n<g id=\"node1\" class=\"node\">\n<title>0</title>\n<polygon fill=\"none\" stroke=\"#000000\" points=\"251.5,-469 119.5,-469 119.5,-401 251.5,-401 251.5,-469\"/>\n<text text-anchor=\"middle\" x=\"185.5\" y=\"-453.8\" font-family=\"Times,serif\" font-size=\"14.00\" fill=\"#000000\">X[3] &lt;= 0.75</text>\n<text text-anchor=\"middle\" x=\"185.5\" y=\"-438.8\" font-family=\"Times,serif\" font-size=\"14.00\" fill=\"#000000\">gini = 0.664</text>\n<text text-anchor=\"middle\" x=\"185.5\" y=\"-423.8\" font-family=\"Times,serif\" font-size=\"14.00\" fill=\"#000000\">samples = 105</text>\n<text text-anchor=\"middle\" x=\"185.5\" y=\"-408.8\" font-family=\"Times,serif\" font-size=\"14.00\" fill=\"#000000\">value = [34, 32, 39]</text>\n</g>\n<!-- 1 -->\n<g id=\"node2\" class=\"node\">\n<title>1</title>\n<polygon fill=\"none\" stroke=\"#000000\" points=\"175,-357.5 58,-357.5 58,-304.5 175,-304.5 175,-357.5\"/>\n<text text-anchor=\"middle\" x=\"116.5\" y=\"-342.3\" font-family=\"Times,serif\" font-size=\"14.00\" fill=\"#000000\">gini = 0.0</text>\n<text text-anchor=\"middle\" x=\"116.5\" y=\"-327.3\" font-family=\"Times,serif\" font-size=\"14.00\" fill=\"#000000\">samples = 34</text>\n<text text-anchor=\"middle\" x=\"116.5\" y=\"-312.3\" font-family=\"Times,serif\" font-size=\"14.00\" fill=\"#000000\">value = [34, 0, 0]</text>\n</g>\n<!-- 0&#45;&gt;1 -->\n<g id=\"edge1\" class=\"edge\">\n<title>0&#45;&gt;1</title>\n<path fill=\"none\" stroke=\"#000000\" d=\"M162.9068,-400.9465C155.4527,-389.7113 147.1533,-377.2021 139.6577,-365.9043\"/>\n<polygon fill=\"#000000\" stroke=\"#000000\" points=\"142.5547,-363.94 134.1097,-357.5422 136.7218,-367.81 142.5547,-363.94\"/>\n<text text-anchor=\"middle\" x=\"129.1523\" y=\"-378.3457\" font-family=\"Times,serif\" font-size=\"14.00\" fill=\"#000000\">True</text>\n</g>\n<!-- 2 -->\n<g id=\"node3\" class=\"node\">\n<title>2</title>\n<polygon fill=\"none\" stroke=\"#000000\" points=\"318,-365 193,-365 193,-297 318,-297 318,-365\"/>\n<text text-anchor=\"middle\" x=\"255.5\" y=\"-349.8\" font-family=\"Times,serif\" font-size=\"14.00\" fill=\"#000000\">X[2] &lt;= 4.95</text>\n<text text-anchor=\"middle\" x=\"255.5\" y=\"-334.8\" font-family=\"Times,serif\" font-size=\"14.00\" fill=\"#000000\">gini = 0.495</text>\n<text text-anchor=\"middle\" x=\"255.5\" y=\"-319.8\" font-family=\"Times,serif\" font-size=\"14.00\" fill=\"#000000\">samples = 71</text>\n<text text-anchor=\"middle\" x=\"255.5\" y=\"-304.8\" font-family=\"Times,serif\" font-size=\"14.00\" fill=\"#000000\">value = [0, 32, 39]</text>\n</g>\n<!-- 0&#45;&gt;2 -->\n<g id=\"edge2\" class=\"edge\">\n<title>0&#45;&gt;2</title>\n<path fill=\"none\" stroke=\"#000000\" d=\"M208.4206,-400.9465C214.2826,-392.2373 220.6598,-382.7626 226.773,-373.6801\"/>\n<polygon fill=\"#000000\" stroke=\"#000000\" points=\"229.8476,-375.3802 232.5279,-365.13 224.0405,-371.4716 229.8476,-375.3802\"/>\n<text text-anchor=\"middle\" x=\"237.3223\" y=\"-385.966\" font-family=\"Times,serif\" font-size=\"14.00\" fill=\"#000000\">False</text>\n</g>\n<!-- 3 -->\n<g id=\"node4\" class=\"node\">\n<title>3</title>\n<polygon fill=\"none\" stroke=\"#000000\" points=\"247,-261 130,-261 130,-193 247,-193 247,-261\"/>\n<text text-anchor=\"middle\" x=\"188.5\" y=\"-245.8\" font-family=\"Times,serif\" font-size=\"14.00\" fill=\"#000000\">X[3] &lt;= 1.65</text>\n<text text-anchor=\"middle\" x=\"188.5\" y=\"-230.8\" font-family=\"Times,serif\" font-size=\"14.00\" fill=\"#000000\">gini = 0.161</text>\n<text text-anchor=\"middle\" x=\"188.5\" y=\"-215.8\" font-family=\"Times,serif\" font-size=\"14.00\" fill=\"#000000\">samples = 34</text>\n<text text-anchor=\"middle\" x=\"188.5\" y=\"-200.8\" font-family=\"Times,serif\" font-size=\"14.00\" fill=\"#000000\">value = [0, 31, 3]</text>\n</g>\n<!-- 2&#45;&gt;3 -->\n<g id=\"edge3\" class=\"edge\">\n<title>2&#45;&gt;3</title>\n<path fill=\"none\" stroke=\"#000000\" d=\"M233.5617,-296.9465C227.951,-288.2373 221.8471,-278.7626 215.9958,-269.6801\"/>\n<polygon fill=\"#000000\" stroke=\"#000000\" points=\"218.8457,-267.641 210.4876,-261.13 212.9611,-271.4321 218.8457,-267.641\"/>\n</g>\n<!-- 8 -->\n<g id=\"node9\" class=\"node\">\n<title>8</title>\n<polygon fill=\"none\" stroke=\"#000000\" points=\"382,-261 265,-261 265,-193 382,-193 382,-261\"/>\n<text text-anchor=\"middle\" x=\"323.5\" y=\"-245.8\" font-family=\"Times,serif\" font-size=\"14.00\" fill=\"#000000\">X[3] &lt;= 1.75</text>\n<text text-anchor=\"middle\" x=\"323.5\" y=\"-230.8\" font-family=\"Times,serif\" font-size=\"14.00\" fill=\"#000000\">gini = 0.053</text>\n<text text-anchor=\"middle\" x=\"323.5\" y=\"-215.8\" font-family=\"Times,serif\" font-size=\"14.00\" fill=\"#000000\">samples = 37</text>\n<text text-anchor=\"middle\" x=\"323.5\" y=\"-200.8\" font-family=\"Times,serif\" font-size=\"14.00\" fill=\"#000000\">value = [0, 1, 36]</text>\n</g>\n<!-- 2&#45;&gt;8 -->\n<g id=\"edge8\" class=\"edge\">\n<title>2&#45;&gt;8</title>\n<path fill=\"none\" stroke=\"#000000\" d=\"M277.7657,-296.9465C283.4602,-288.2373 289.6552,-278.7626 295.5938,-269.6801\"/>\n<polygon fill=\"#000000\" stroke=\"#000000\" points=\"298.6411,-271.4151 301.1842,-261.13 292.7823,-267.5843 298.6411,-271.4151\"/>\n</g>\n<!-- 4 -->\n<g id=\"node5\" class=\"node\">\n<title>4</title>\n<polygon fill=\"none\" stroke=\"#000000\" points=\"117,-149.5 0,-149.5 0,-96.5 117,-96.5 117,-149.5\"/>\n<text text-anchor=\"middle\" x=\"58.5\" y=\"-134.3\" font-family=\"Times,serif\" font-size=\"14.00\" fill=\"#000000\">gini = 0.0</text>\n<text text-anchor=\"middle\" x=\"58.5\" y=\"-119.3\" font-family=\"Times,serif\" font-size=\"14.00\" fill=\"#000000\">samples = 30</text>\n<text text-anchor=\"middle\" x=\"58.5\" y=\"-104.3\" font-family=\"Times,serif\" font-size=\"14.00\" fill=\"#000000\">value = [0, 30, 0]</text>\n</g>\n<!-- 3&#45;&gt;4 -->\n<g id=\"edge4\" class=\"edge\">\n<title>3&#45;&gt;4</title>\n<path fill=\"none\" stroke=\"#000000\" d=\"M145.9331,-192.9465C131.063,-181.0504 114.4075,-167.726 99.6546,-155.9237\"/>\n<polygon fill=\"#000000\" stroke=\"#000000\" points=\"101.6729,-153.0561 91.6777,-149.5422 97.3,-158.5222 101.6729,-153.0561\"/>\n</g>\n<!-- 5 -->\n<g id=\"node6\" class=\"node\">\n<title>5</title>\n<polygon fill=\"none\" stroke=\"#000000\" points=\"245.5,-157 135.5,-157 135.5,-89 245.5,-89 245.5,-157\"/>\n<text text-anchor=\"middle\" x=\"190.5\" y=\"-141.8\" font-family=\"Times,serif\" font-size=\"14.00\" fill=\"#000000\">X[1] &lt;= 3.1</text>\n<text text-anchor=\"middle\" x=\"190.5\" y=\"-126.8\" font-family=\"Times,serif\" font-size=\"14.00\" fill=\"#000000\">gini = 0.375</text>\n<text text-anchor=\"middle\" x=\"190.5\" y=\"-111.8\" font-family=\"Times,serif\" font-size=\"14.00\" fill=\"#000000\">samples = 4</text>\n<text text-anchor=\"middle\" x=\"190.5\" y=\"-96.8\" font-family=\"Times,serif\" font-size=\"14.00\" fill=\"#000000\">value = [0, 1, 3]</text>\n</g>\n<!-- 3&#45;&gt;5 -->\n<g id=\"edge5\" class=\"edge\">\n<title>3&#45;&gt;5</title>\n<path fill=\"none\" stroke=\"#000000\" d=\"M189.1549,-192.9465C189.312,-184.776 189.4821,-175.9318 189.6467,-167.3697\"/>\n<polygon fill=\"#000000\" stroke=\"#000000\" points=\"193.1506,-167.1955 189.8437,-157.13 186.1519,-167.0608 193.1506,-167.1955\"/>\n</g>\n<!-- 6 -->\n<g id=\"node7\" class=\"node\">\n<title>6</title>\n<polygon fill=\"none\" stroke=\"#000000\" points=\"118.5,-53 8.5,-53 8.5,0 118.5,0 118.5,-53\"/>\n<text text-anchor=\"middle\" x=\"63.5\" y=\"-37.8\" font-family=\"Times,serif\" font-size=\"14.00\" fill=\"#000000\">gini = 0.0</text>\n<text text-anchor=\"middle\" x=\"63.5\" y=\"-22.8\" font-family=\"Times,serif\" font-size=\"14.00\" fill=\"#000000\">samples = 3</text>\n<text text-anchor=\"middle\" x=\"63.5\" y=\"-7.8\" font-family=\"Times,serif\" font-size=\"14.00\" fill=\"#000000\">value = [0, 0, 3]</text>\n</g>\n<!-- 5&#45;&gt;6 -->\n<g id=\"edge6\" class=\"edge\">\n<title>5&#45;&gt;6</title>\n<path fill=\"none\" stroke=\"#000000\" d=\"M145.7246,-88.9777C133.0708,-79.3629 119.3277,-68.9203 106.7647,-59.3743\"/>\n<polygon fill=\"#000000\" stroke=\"#000000\" points=\"108.7824,-56.5118 98.7027,-53.2485 104.5474,-62.0853 108.7824,-56.5118\"/>\n</g>\n<!-- 7 -->\n<g id=\"node8\" class=\"node\">\n<title>7</title>\n<polygon fill=\"none\" stroke=\"#000000\" points=\"246.5,-53 136.5,-53 136.5,0 246.5,0 246.5,-53\"/>\n<text text-anchor=\"middle\" x=\"191.5\" y=\"-37.8\" font-family=\"Times,serif\" font-size=\"14.00\" fill=\"#000000\">gini = 0.0</text>\n<text text-anchor=\"middle\" x=\"191.5\" y=\"-22.8\" font-family=\"Times,serif\" font-size=\"14.00\" fill=\"#000000\">samples = 1</text>\n<text text-anchor=\"middle\" x=\"191.5\" y=\"-7.8\" font-family=\"Times,serif\" font-size=\"14.00\" fill=\"#000000\">value = [0, 1, 0]</text>\n</g>\n<!-- 5&#45;&gt;7 -->\n<g id=\"edge7\" class=\"edge\">\n<title>5&#45;&gt;7</title>\n<path fill=\"none\" stroke=\"#000000\" d=\"M190.8526,-88.9777C190.938,-80.7364 191.0297,-71.887 191.1164,-63.5153\"/>\n<polygon fill=\"#000000\" stroke=\"#000000\" points=\"194.6189,-63.2842 191.2228,-53.2485 187.6193,-63.2116 194.6189,-63.2842\"/>\n</g>\n<!-- 9 -->\n<g id=\"node10\" class=\"node\">\n<title>9</title>\n<polygon fill=\"none\" stroke=\"#000000\" points=\"378.5,-157 268.5,-157 268.5,-89 378.5,-89 378.5,-157\"/>\n<text text-anchor=\"middle\" x=\"323.5\" y=\"-141.8\" font-family=\"Times,serif\" font-size=\"14.00\" fill=\"#000000\">X[3] &lt;= 1.65</text>\n<text text-anchor=\"middle\" x=\"323.5\" y=\"-126.8\" font-family=\"Times,serif\" font-size=\"14.00\" fill=\"#000000\">gini = 0.375</text>\n<text text-anchor=\"middle\" x=\"323.5\" y=\"-111.8\" font-family=\"Times,serif\" font-size=\"14.00\" fill=\"#000000\">samples = 4</text>\n<text text-anchor=\"middle\" x=\"323.5\" y=\"-96.8\" font-family=\"Times,serif\" font-size=\"14.00\" fill=\"#000000\">value = [0, 1, 3]</text>\n</g>\n<!-- 8&#45;&gt;9 -->\n<g id=\"edge9\" class=\"edge\">\n<title>8&#45;&gt;9</title>\n<path fill=\"none\" stroke=\"#000000\" d=\"M323.5,-192.9465C323.5,-184.776 323.5,-175.9318 323.5,-167.3697\"/>\n<polygon fill=\"#000000\" stroke=\"#000000\" points=\"327.0001,-167.13 323.5,-157.13 320.0001,-167.13 327.0001,-167.13\"/>\n</g>\n<!-- 12 -->\n<g id=\"node13\" class=\"node\">\n<title>12</title>\n<polygon fill=\"none\" stroke=\"#000000\" points=\"514,-149.5 397,-149.5 397,-96.5 514,-96.5 514,-149.5\"/>\n<text text-anchor=\"middle\" x=\"455.5\" y=\"-134.3\" font-family=\"Times,serif\" font-size=\"14.00\" fill=\"#000000\">gini = 0.0</text>\n<text text-anchor=\"middle\" x=\"455.5\" y=\"-119.3\" font-family=\"Times,serif\" font-size=\"14.00\" fill=\"#000000\">samples = 33</text>\n<text text-anchor=\"middle\" x=\"455.5\" y=\"-104.3\" font-family=\"Times,serif\" font-size=\"14.00\" fill=\"#000000\">value = [0, 0, 33]</text>\n</g>\n<!-- 8&#45;&gt;12 -->\n<g id=\"edge12\" class=\"edge\">\n<title>8&#45;&gt;12</title>\n<path fill=\"none\" stroke=\"#000000\" d=\"M366.7217,-192.9465C381.8206,-181.0504 398.7324,-167.726 413.7122,-155.9237\"/>\n<polygon fill=\"#000000\" stroke=\"#000000\" points=\"416.123,-158.4802 421.8119,-149.5422 411.7909,-152.9817 416.123,-158.4802\"/>\n</g>\n<!-- 10 -->\n<g id=\"node11\" class=\"node\">\n<title>10</title>\n<polygon fill=\"none\" stroke=\"#000000\" points=\"377.5,-53 267.5,-53 267.5,0 377.5,0 377.5,-53\"/>\n<text text-anchor=\"middle\" x=\"322.5\" y=\"-37.8\" font-family=\"Times,serif\" font-size=\"14.00\" fill=\"#000000\">gini = 0.0</text>\n<text text-anchor=\"middle\" x=\"322.5\" y=\"-22.8\" font-family=\"Times,serif\" font-size=\"14.00\" fill=\"#000000\">samples = 3</text>\n<text text-anchor=\"middle\" x=\"322.5\" y=\"-7.8\" font-family=\"Times,serif\" font-size=\"14.00\" fill=\"#000000\">value = [0, 0, 3]</text>\n</g>\n<!-- 9&#45;&gt;10 -->\n<g id=\"edge10\" class=\"edge\">\n<title>9&#45;&gt;10</title>\n<path fill=\"none\" stroke=\"#000000\" d=\"M323.1474,-88.9777C323.062,-80.7364 322.9703,-71.887 322.8836,-63.5153\"/>\n<polygon fill=\"#000000\" stroke=\"#000000\" points=\"326.3807,-63.2116 322.7772,-53.2485 319.3811,-63.2842 326.3807,-63.2116\"/>\n</g>\n<!-- 11 -->\n<g id=\"node12\" class=\"node\">\n<title>11</title>\n<polygon fill=\"none\" stroke=\"#000000\" points=\"505.5,-53 395.5,-53 395.5,0 505.5,0 505.5,-53\"/>\n<text text-anchor=\"middle\" x=\"450.5\" y=\"-37.8\" font-family=\"Times,serif\" font-size=\"14.00\" fill=\"#000000\">gini = 0.0</text>\n<text text-anchor=\"middle\" x=\"450.5\" y=\"-22.8\" font-family=\"Times,serif\" font-size=\"14.00\" fill=\"#000000\">samples = 1</text>\n<text text-anchor=\"middle\" x=\"450.5\" y=\"-7.8\" font-family=\"Times,serif\" font-size=\"14.00\" fill=\"#000000\">value = [0, 1, 0]</text>\n</g>\n<!-- 9&#45;&gt;11 -->\n<g id=\"edge11\" class=\"edge\">\n<title>9&#45;&gt;11</title>\n<path fill=\"none\" stroke=\"#000000\" d=\"M368.2754,-88.9777C380.9292,-79.3629 394.6723,-68.9203 407.2353,-59.3743\"/>\n<polygon fill=\"#000000\" stroke=\"#000000\" points=\"409.4526,-62.0853 415.2973,-53.2485 405.2176,-56.5118 409.4526,-62.0853\"/>\n</g>\n</g>\n</svg>\n"
          },
          "metadata": {
            "tags": []
          },
          "execution_count": 59
        }
      ]
    },
    {
      "cell_type": "code",
      "metadata": {
        "colab": {
          "base_uri": "https://localhost:8080/"
        },
        "id": "bd2a0376",
        "outputId": "47621bfd-9df6-49f2-ed48-ae9edd27d3a0"
      },
      "source": [
        "feature_importance=model.feature_importances_\n",
        "feature_importance"
      ],
      "id": "bd2a0376",
      "execution_count": 60,
      "outputs": [
        {
          "output_type": "execute_result",
          "data": {
            "text/plain": [
              "array([0.        , 0.02150464, 0.39766951, 0.58082584])"
            ]
          },
          "metadata": {
            "tags": []
          },
          "execution_count": 60
        }
      ]
    },
    {
      "cell_type": "code",
      "metadata": {
        "id": "35df84c9"
      },
      "source": [
        "y=columns_name\n",
        "width=feature_importance"
      ],
      "id": "35df84c9",
      "execution_count": 61,
      "outputs": []
    },
    {
      "cell_type": "code",
      "metadata": {
        "colab": {
          "base_uri": "https://localhost:8080/",
          "height": 283
        },
        "id": "Pac11AH3dhUO",
        "outputId": "2229c3ce-cfda-479b-9318-4495411eaa61"
      },
      "source": [
        "plt.barh(y=y,width=width)"
      ],
      "id": "Pac11AH3dhUO",
      "execution_count": 70,
      "outputs": [
        {
          "output_type": "execute_result",
          "data": {
            "text/plain": [
              "<BarContainer object of 4 artists>"
            ]
          },
          "metadata": {
            "tags": []
          },
          "execution_count": 70
        },
        {
          "output_type": "display_data",
          "data": {
            "image/png": "[encoded data removed]",
            "text/plain": [
              "<Figure size 432x288 with 1 Axes>"
            ]
          },
          "metadata": {
            "tags": [],
            "needs_background": "light"
          }
        }
      ]
    },
    {
      "cell_type": "code",
      "metadata": {
        "id": "gBsqaACNdmke"
      },
      "source": [
        ""
      ],
      "id": "gBsqaACNdmke",
      "execution_count": null,
      "outputs": []
    }
  ]
}